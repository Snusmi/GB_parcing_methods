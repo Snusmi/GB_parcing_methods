{
 "cells": [
  {
   "cell_type": "markdown",
   "metadata": {},
   "source": [
    "# Урок 1. Основы клиент-серверного взаимодействия. Парсинг API"
   ]
  },
  {
   "cell_type": "markdown",
   "metadata": {},
   "source": [
    "### 1. Посмотреть документацию к API GitHub, разобраться как вывести список репозиториев для конкретного пользователя, сохранить JSON-вывод в файле *.json."
   ]
  },
  {
   "cell_type": "code",
   "execution_count": 1,
   "metadata": {},
   "outputs": [],
   "source": [
    "from pprint import pprint\n",
    "import requests\n",
    "import json"
   ]
  },
  {
   "cell_type": "code",
   "execution_count": 2,
   "metadata": {},
   "outputs": [],
   "source": [
    "class UserRepos:\n",
    "    \"\"\"deal with public repos of specified user\"\"\"\n",
    "    \n",
    "    def __init__(self):\n",
    "        pass\n",
    "    \n",
    "    def get_data(self, username):\n",
    "        main_url = 'https://api.github.com'\n",
    "        api_get_repos = '/users/' + str(username) + '/repos'\n",
    "        header={'Accept':'application/vnd.github.mercy-preview+json'}\n",
    "        response = requests.get(main_url+api_get_repos,headers=header)\n",
    "        if response.ok:\n",
    "            data = json.loads(response.text)\n",
    "        return data\n",
    "    \n",
    "    def save(self, username):\n",
    "        with open(f'{username}_repos.json', 'w', encoding='utf-8') as f:\n",
    "            json.dump(self.get_data(username), f, ensure_ascii=False, indent=4)\n",
    "    \n",
    "    def show(self, username, N=None):\n",
    "        data = self.get_data(username)\n",
    "        len_data = len(data)\n",
    "        \n",
    "        if len_data > 0:\n",
    "            if N and N <= len_data:\n",
    "                end_data = N\n",
    "            else:\n",
    "                end_data = len_data\n",
    "\n",
    "            for i in range(end_data):\n",
    "              print(\"Project Number:\",i+1)\n",
    "              print(\"Project Name:\",data[i]['name'])\n",
    "              print(\"Project URL:\",data[i]['svn_url'],\"\\n\")    \n",
    "        else:\n",
    "            print(\"Нет публичных репозиториев\")"
   ]
  },
  {
   "cell_type": "code",
   "execution_count": 3,
   "metadata": {},
   "outputs": [
    {
     "name": "stdout",
     "output_type": "stream",
     "text": [
      "Введите имя пользователя: Snusmi\n"
     ]
    }
   ],
   "source": [
    "name = input('Введите имя пользователя: ')\n",
    "# name = 'Snusmi'\n",
    "repos = UserRepos()"
   ]
  },
  {
   "cell_type": "code",
   "execution_count": 4,
   "metadata": {},
   "outputs": [
    {
     "name": "stdout",
     "output_type": "stream",
     "text": [
      "Project Number: 1\n",
      "Project Name: GB_Cloud_computing\n",
      "Project URL: https://github.com/Snusmi/GB_Cloud_computing \n",
      "\n",
      "Project Number: 2\n",
      "Project Name: GB_Databases\n",
      "Project URL: https://github.com/Snusmi/GB_Databases \n",
      "\n",
      "Project Number: 3\n",
      "Project Name: GB_Data_structures_Python\n",
      "Project URL: https://github.com/Snusmi/GB_Data_structures_Python \n",
      "\n"
     ]
    }
   ],
   "source": [
    "repos.show(name, 3)"
   ]
  },
  {
   "cell_type": "code",
   "execution_count": 5,
   "metadata": {},
   "outputs": [],
   "source": [
    "repos.save(name)"
   ]
  },
  {
   "cell_type": "markdown",
   "metadata": {},
   "source": [
    "### 2. Изучить список открытых API. Найти среди них любое, требующее авторизацию (любого типа). Выполнить запросы к нему, пройдя авторизацию. Ответ сервера записать в файл."
   ]
  },
  {
   "cell_type": "code",
   "execution_count": 15,
   "metadata": {},
   "outputs": [],
   "source": [
    "from pprint import pprint\n",
    "import requests\n",
    "import json\n",
    "import time"
   ]
  },
  {
   "cell_type": "markdown",
   "metadata": {},
   "source": [
    "**API Vkontakte**  \n",
    "Чтобы получить токен, нужно завести себе приложение. Далее инструкция: https://vk.com/dev/first_guide  \n",
    "Мой токен \"сгорит\" ко времени сдачи задания"
   ]
  },
  {
   "cell_type": "markdown",
   "metadata": {},
   "source": [
    "Метод: groups.getById. Возвращает информацию о заданном сообществе или о нескольких сообществах.  \n",
    "Сообщество: GeekBrains"
   ]
  },
  {
   "cell_type": "code",
   "execution_count": 33,
   "metadata": {},
   "outputs": [],
   "source": [
    "VERSION = 5.103\n",
    "ACCESS_TOKEN='bb1ed2001ceaa020af3113b948372c8e1c1b588b1c897253e13cb43fb14f4ad3756b06ca7704585e9d940'\n",
    "METHOD_NAME = 'groups.getById'\n",
    "PARAMETERS = 'group_id=15365973&fields=description'\n",
    "url = f\"https://api.vk.com/method/{METHOD_NAME}?{PARAMETERS}&access_token={ACCESS_TOKEN}&v={VERSION}\"\n",
    "header = {'User-Agent':'Mozilla/5.0 (Windows NT 10.0; Win64; x64) AppleWebKit/537.36 (KHTML, like Gecko) Chrome/81.0.4044.138 Safari/537.36'}"
   ]
  },
  {
   "cell_type": "code",
   "execution_count": 34,
   "metadata": {},
   "outputs": [
    {
     "data": {
      "text/plain": [
       "[{'id': 15365973,\n",
       "  'name': 'GeekBrains',\n",
       "  'screen_name': 'geekbrainsru',\n",
       "  'is_closed': 0,\n",
       "  'type': 'page',\n",
       "  'description': 'GeekBrains — образовательный портал от Mail.ru Group, который помогает начать карьеру в IT и Digital и получить новые знания для развития.\\n\\nПреподаватели-практики готовят специалистов по 4 направлениям: программированию, управлению, маркетингу и дизайну. После обучения гарантируем стажировку и помощь с трудоустройством.\\n\\nНа портале размещено более 1000 бесплатных вебинаров, которые помогают развиваться профессионально и прокачивают soft skills — непрофильные навыки для эффективной работы. За 10 лет на сайте зарегистрировались и получили доступ к новым знаниям более 4 млн человек.\\n\\nПрисоединяйся к нам!',\n",
       "  'photo_50': 'https://sun1-98.userapi.com/c857732/v857732252/1b119a/pljhSbLrFZk.jpg?ava=1',\n",
       "  'photo_100': 'https://sun1-85.userapi.com/c857732/v857732252/1b1199/mAe3kZhVfPM.jpg?ava=1',\n",
       "  'photo_200': 'https://sun1-14.userapi.com/c857732/v857732252/1b1198/OvC5_UIv1YU.jpg?ava=1'}]"
      ]
     },
     "execution_count": 34,
     "metadata": {},
     "output_type": "execute_result"
    }
   ],
   "source": [
    "response = requests.get(url,headers=header)\n",
    "data = response.json().get('response')\n",
    "data"
   ]
  },
  {
   "cell_type": "code",
   "execution_count": 37,
   "metadata": {},
   "outputs": [],
   "source": [
    "filename = data[0]['name']\n",
    "with open(f'{filename}_getById.json', 'w', encoding='utf-8') as f:\n",
    "    json.dump(data, f, ensure_ascii=False, indent=4)"
   ]
  }
 ],
 "metadata": {
  "kernelspec": {
   "display_name": "Python 3",
   "language": "python",
   "name": "python3"
  },
  "language_info": {
   "codemirror_mode": {
    "name": "ipython",
    "version": 3
   },
   "file_extension": ".py",
   "mimetype": "text/x-python",
   "name": "python",
   "nbconvert_exporter": "python",
   "pygments_lexer": "ipython3",
   "version": "3.7.7"
  }
 },
 "nbformat": 4,
 "nbformat_minor": 2
}
