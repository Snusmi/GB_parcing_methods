{
 "cells": [
  {
   "cell_type": "code",
   "execution_count": 1,
   "metadata": {},
   "outputs": [],
   "source": [
    "from pprint import pprint\n",
    "import requests\n",
    "import json\n",
    "# main_link = 'https://api.openweathermap.org/data/2.5/weather'\n",
    "# header = {'User-Agent':'Mozilla/5.0 (Windows NT 10.0; Win64; x64) AppleWebKit/537.36 (KHTML, like Gecko) Chrome/81.0.4044.138 Safari/537.36',\n",
    "#           'Accept':'*/*'}\n",
    "# city = 'Moscow'\n",
    "# appid = '2292b417245591415a85e86b30ac66b9'\n",
    "# params = {'q':city,\n",
    "#           'appid':appid}\n",
    "# response = requests.get(main_link,headers=header,params=params)\n",
    "# if response.ok:\n",
    "#     data = json.loads(response.text)\n",
    "\n",
    "# print(f\"В городе {data['name']} температура {round(data['main']['temp'] - 273.15,2)} градусов\")\n"
   ]
  },
  {
   "cell_type": "code",
   "execution_count": 6,
   "metadata": {},
   "outputs": [],
   "source": [
    "user = 'Snusmi'\n",
    "main_url = 'https://api.github.com'\n",
    "get = '/users/' + str(user) + '/repos'\n",
    "\n",
    "header={'Accept':'application/vnd.github.mercy-preview+json'}\n",
    "\n",
    "response = requests.get(main_url+get,headers=header)"
   ]
  },
  {
   "cell_type": "code",
   "execution_count": 7,
   "metadata": {},
   "outputs": [
    {
     "name": "stdout",
     "output_type": "stream",
     "text": [
      "<Response [200]>\n"
     ]
    }
   ],
   "source": [
    "print(response)"
   ]
  },
  {
   "cell_type": "code",
   "execution_count": null,
   "metadata": {},
   "outputs": [],
   "source": []
  }
 ],
 "metadata": {
  "kernelspec": {
   "display_name": "Python 3",
   "language": "python",
   "name": "python3"
  },
  "language_info": {
   "codemirror_mode": {
    "name": "ipython",
    "version": 3
   },
   "file_extension": ".py",
   "mimetype": "text/x-python",
   "name": "python",
   "nbconvert_exporter": "python",
   "pygments_lexer": "ipython3",
   "version": "3.7.5"
  }
 },
 "nbformat": 4,
 "nbformat_minor": 2
}
