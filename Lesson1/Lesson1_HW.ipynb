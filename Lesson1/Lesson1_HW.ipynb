{
 "cells": [
  {
   "cell_type": "markdown",
   "metadata": {},
   "source": [
    "# Урок 1. Основы клиент-серверного взаимодействия. Парсинг API"
   ]
  },
  {
   "cell_type": "markdown",
   "metadata": {},
   "source": [
    "### 1. Посмотреть документацию к API GitHub, разобраться как вывести список репозиториев для конкретного пользователя, сохранить JSON-вывод в файле *.json."
   ]
  },
  {
   "cell_type": "code",
   "execution_count": 34,
   "metadata": {},
   "outputs": [],
   "source": [
    "from pprint import pprint\n",
    "import requests\n",
    "import json"
   ]
  },
  {
   "cell_type": "code",
   "execution_count": 35,
   "metadata": {},
   "outputs": [],
   "source": [
    "class UserRepos:\n",
    "    \"\"\"deal with public repos of specified user\"\"\"\n",
    "    \n",
    "    def __init__(self):\n",
    "        pass\n",
    "    \n",
    "    def get_data(self, username):\n",
    "        main_url = 'https://api.github.com'\n",
    "        api_get_repos = '/users/' + str(username) + '/repos'\n",
    "        header={'Accept':'application/vnd.github.mercy-preview+json'}\n",
    "        response = requests.get(main_url+api_get_repos,headers=header)\n",
    "        if response.ok:\n",
    "            data = json.loads(response.text)\n",
    "        return data\n",
    "    \n",
    "    def save(self, username):\n",
    "        with open(f'{username}_repos.json', 'w', encoding='utf-8') as f:\n",
    "            json.dump(self.get_data(username), f, ensure_ascii=False, indent=4)\n",
    "    \n",
    "    def show(self, username, N=None):\n",
    "        data = self.get_data(username)\n",
    "        len_data = len(data)\n",
    "        \n",
    "        if N and N <= len_data:\n",
    "            end_data = N\n",
    "        else:\n",
    "            end_data = len_data\n",
    "        \n",
    "        for i in range(end_data):\n",
    "          print(\"Project Number:\",i+1)\n",
    "          print(\"Project Name:\",data[i]['name'])\n",
    "          print(\"Project URL:\",data[i]['svn_url'],\"\\n\")        "
   ]
  },
  {
   "cell_type": "code",
   "execution_count": 39,
   "metadata": {},
   "outputs": [
    {
     "name": "stdout",
     "output_type": "stream",
     "text": [
      "Введите имя пользователя: Snusmi\n"
     ]
    }
   ],
   "source": [
    "name = input('Введите имя пользователя: ')\n",
    "# name = 'Snusmi'\n",
    "repos = UserRepos()"
   ]
  },
  {
   "cell_type": "code",
   "execution_count": 40,
   "metadata": {},
   "outputs": [
    {
     "name": "stdout",
     "output_type": "stream",
     "text": [
      "Project Number: 1\n",
      "Project Name: GB_Cloud_computing\n",
      "Project URL: https://github.com/Snusmi/GB_Cloud_computing \n",
      "\n",
      "Project Number: 2\n",
      "Project Name: GB_Databases\n",
      "Project URL: https://github.com/Snusmi/GB_Databases \n",
      "\n",
      "Project Number: 3\n",
      "Project Name: GB_Data_structures_Python\n",
      "Project URL: https://github.com/Snusmi/GB_Data_structures_Python \n",
      "\n"
     ]
    }
   ],
   "source": [
    "repos.show(name, 3)"
   ]
  },
  {
   "cell_type": "code",
   "execution_count": 41,
   "metadata": {},
   "outputs": [],
   "source": [
    "repos.save(name)"
   ]
  },
  {
   "cell_type": "code",
   "execution_count": null,
   "metadata": {},
   "outputs": [],
   "source": []
  }
 ],
 "metadata": {
  "kernelspec": {
   "display_name": "Python 3",
   "language": "python",
   "name": "python3"
  },
  "language_info": {
   "codemirror_mode": {
    "name": "ipython",
    "version": 3
   },
   "file_extension": ".py",
   "mimetype": "text/x-python",
   "name": "python",
   "nbconvert_exporter": "python",
   "pygments_lexer": "ipython3",
   "version": "3.7.7"
  }
 },
 "nbformat": 4,
 "nbformat_minor": 2
}
