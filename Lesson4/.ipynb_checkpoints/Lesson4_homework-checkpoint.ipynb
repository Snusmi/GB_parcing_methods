{
 "cells": [
  {
   "cell_type": "markdown",
   "metadata": {},
   "source": [
    "# Урок 4. Парсинг HTML. XPath"
   ]
  },
  {
   "cell_type": "markdown",
   "metadata": {},
   "source": [
    "1) Написать приложение, которое собирает основные новости с сайтов news.mail.ru, lenta.ru, yandex.news  \n",
    "Для парсинга использовать xpath. Структура данных должна содержать:\n",
    "* название источника,\n",
    "* наименование новости,\n",
    "* ссылку на новость,\n",
    "* дата публикации\n",
    "\n",
    "2) Сложить все новости в БД"
   ]
  },
  {
   "cell_type": "code",
   "execution_count": 46,
   "metadata": {},
   "outputs": [],
   "source": [
    "from lxml import html\n",
    "from pprint import pprint\n",
    "import requests\n",
    "from datetime import date\n",
    "import pandas as pd\n",
    "import numpy as np\n",
    "from pymongo import MongoClient\n",
    "from pymongo import errors\n",
    "import hashlib\n",
    "today = str(date.today())\n",
    "header = {'User Agent' : 'Mozilla/5.0 (Windows NT 10.0; Win64; x64) AppleWebKit/537.36 (KHTML, like Gecko) Chrome/83.0.4103.61 Safari/537.36'}"
   ]
  },
  {
   "cell_type": "code",
   "execution_count": 51,
   "metadata": {},
   "outputs": [],
   "source": [
    "def mailru_news():\n",
    "    main_link = 'https://news.mail.ru'\n",
    "    source = 'news.mail.ru'\n",
    "    response = requests.get(main_link, headers = header)\n",
    "    dom = html.fromstring(response.text)\n",
    "\n",
    "    news = dom.xpath(\"//a[@class='list__text']\")\n",
    "    news2 = dom.xpath(\"//a[@class='link link_flex']\")\n",
    "    \n",
    "    all_news = []\n",
    "    for element in news:\n",
    "        data = {}\n",
    "        data['source'] = source\n",
    "        data['link'] = element.xpath(\"@href\")[0]\n",
    "        if data['link'].find('https') == -1:\n",
    "            data['link'] = main_link + data['link']\n",
    "        data['text'] = element.xpath(\"text()\")[0].replace(u'\\xa0', u' ')\n",
    "        data['date'] = today\n",
    "\n",
    "        all_news.append(data)\n",
    "\n",
    "    for element in news2:\n",
    "        data = {}\n",
    "        data['source'] = source\n",
    "        data['link'] = element.xpath(\"@href\")[0]\n",
    "        if data['link'].find('https') == -1:\n",
    "            data['link'] = main_link + data['link']\n",
    "        data['text'] = element.xpath(\"span[@class='link__text']/text()\")[0].replace(u'\\xa0', u' ')\n",
    "        data['date'] = today\n",
    "        all_news.append(data)\n",
    "    \n",
    "    return all_news"
   ]
  },
  {
   "cell_type": "code",
   "execution_count": 52,
   "metadata": {},
   "outputs": [],
   "source": [
    "def lentaru_news():\n",
    "    main_link = 'https://lenta.ru'\n",
    "    source = 'lenta.ru'\n",
    "    response = requests.get(main_link, headers = header)\n",
    "    dom = html.fromstring(response.text)\n",
    "\n",
    "    news = dom.xpath(\"//div[starts-with(@class,'item')]//h3//a[@href]\")\n",
    "\n",
    "    all_news = []\n",
    "    for element in news:\n",
    "        data = {}\n",
    "        data['source'] = source\n",
    "        data['link'] = element.xpath(\"@href\")[0]\n",
    "        if data['link'].find('https') == -1:\n",
    "            data['link'] = main_link + data['link']\n",
    "        data['text'] = element.xpath(\"span/text()\")[0].replace(u'\\xa0', u' ')\n",
    "        data['date'] = today\n",
    "\n",
    "        all_news.append(data)\n",
    "    return all_news"
   ]
  },
  {
   "cell_type": "code",
   "execution_count": 53,
   "metadata": {},
   "outputs": [],
   "source": [
    "def yandexru_news():\n",
    "    main_link = 'https://yandex.ru/news'\n",
    "    source = 'yandex.news'\n",
    "    response = requests.get(main_link)\n",
    "    dom = html.fromstring(response.text)\n",
    "\n",
    "    news = dom.xpath(\"//h2[@class='story__title']\")\n",
    "\n",
    "    all_news = []\n",
    "    for element in news:\n",
    "        data = {}\n",
    "        data['source'] = source\n",
    "        data['link'] = element.xpath(\"a[@href]/@href\")[0]\n",
    "        if data['link'].find('https') == -1:\n",
    "            data['link'] = 'https://yandex.ru' + data['link']\n",
    "        data['text'] = element.xpath(\"a[@href]/text()\")[0].replace(u'\\xa0', u' ')\n",
    "        data['date'] = today\n",
    "\n",
    "        all_news.append(data)\n",
    "\n",
    "    return all_news"
   ]
  },
  {
   "cell_type": "code",
   "execution_count": 42,
   "metadata": {},
   "outputs": [],
   "source": [
    "def to_df(news):\n",
    "    df = pd.DataFrame.from_dict(news)\n",
    "    return df"
   ]
  },
  {
   "cell_type": "code",
   "execution_count": 43,
   "metadata": {},
   "outputs": [
    {
     "data": {
      "text/html": [
       "<div>\n",
       "<style scoped>\n",
       "    .dataframe tbody tr th:only-of-type {\n",
       "        vertical-align: middle;\n",
       "    }\n",
       "\n",
       "    .dataframe tbody tr th {\n",
       "        vertical-align: top;\n",
       "    }\n",
       "\n",
       "    .dataframe thead th {\n",
       "        text-align: right;\n",
       "    }\n",
       "</style>\n",
       "<table border=\"1\" class=\"dataframe\">\n",
       "  <thead>\n",
       "    <tr style=\"text-align: right;\">\n",
       "      <th></th>\n",
       "      <th>source</th>\n",
       "      <th>link</th>\n",
       "      <th>text</th>\n",
       "      <th>date</th>\n",
       "    </tr>\n",
       "  </thead>\n",
       "  <tbody>\n",
       "    <tr>\n",
       "      <th>0</th>\n",
       "      <td>news.mail.ru</td>\n",
       "      <td>https://news.mail.ru/incident/41927091/</td>\n",
       "      <td>Офицеров обвинили во взятках за командировки в...</td>\n",
       "      <td>2020-05-26</td>\n",
       "    </tr>\n",
       "    <tr>\n",
       "      <th>1</th>\n",
       "      <td>news.mail.ru</td>\n",
       "      <td>https://news.mail.ru/politics/41926709/</td>\n",
       "      <td>Закон о запрете снюса получил в Госдуме отрица...</td>\n",
       "      <td>2020-05-26</td>\n",
       "    </tr>\n",
       "    <tr>\n",
       "      <th>2</th>\n",
       "      <td>news.mail.ru</td>\n",
       "      <td>https://news.mail.ru/society/41925187/</td>\n",
       "      <td>Художник превратил Симпсонов в реальных людей ...</td>\n",
       "      <td>2020-05-26</td>\n",
       "    </tr>\n",
       "    <tr>\n",
       "      <th>3</th>\n",
       "      <td>news.mail.ru</td>\n",
       "      <td>https://news.mail.ru/economics/41927140/</td>\n",
       "      <td>Западные банкиры спрогнозировали новые санкции...</td>\n",
       "      <td>2020-05-26</td>\n",
       "    </tr>\n",
       "    <tr>\n",
       "      <th>4</th>\n",
       "      <td>news.mail.ru</td>\n",
       "      <td>https://news.mail.ru/society/41884791/</td>\n",
       "      <td>Андрей Григорьев-Апполонов рассказал о планах ...</td>\n",
       "      <td>2020-05-26</td>\n",
       "    </tr>\n",
       "  </tbody>\n",
       "</table>\n",
       "</div>"
      ],
      "text/plain": [
       "         source                                      link  \\\n",
       "0  news.mail.ru   https://news.mail.ru/incident/41927091/   \n",
       "1  news.mail.ru   https://news.mail.ru/politics/41926709/   \n",
       "2  news.mail.ru    https://news.mail.ru/society/41925187/   \n",
       "3  news.mail.ru  https://news.mail.ru/economics/41927140/   \n",
       "4  news.mail.ru    https://news.mail.ru/society/41884791/   \n",
       "\n",
       "                                                text        date  \n",
       "0  Офицеров обвинили во взятках за командировки в...  2020-05-26  \n",
       "1  Закон о запрете снюса получил в Госдуме отрица...  2020-05-26  \n",
       "2  Художник превратил Симпсонов в реальных людей ...  2020-05-26  \n",
       "3  Западные банкиры спрогнозировали новые санкции...  2020-05-26  \n",
       "4  Андрей Григорьев-Апполонов рассказал о планах ...  2020-05-26  "
      ]
     },
     "execution_count": 43,
     "metadata": {},
     "output_type": "execute_result"
    }
   ],
   "source": [
    "mailru_news = to_df(mailru_news())\n",
    "mailru_news.head()"
   ]
  },
  {
   "cell_type": "code",
   "execution_count": 44,
   "metadata": {},
   "outputs": [
    {
     "data": {
      "text/html": [
       "<div>\n",
       "<style scoped>\n",
       "    .dataframe tbody tr th:only-of-type {\n",
       "        vertical-align: middle;\n",
       "    }\n",
       "\n",
       "    .dataframe tbody tr th {\n",
       "        vertical-align: top;\n",
       "    }\n",
       "\n",
       "    .dataframe thead th {\n",
       "        text-align: right;\n",
       "    }\n",
       "</style>\n",
       "<table border=\"1\" class=\"dataframe\">\n",
       "  <thead>\n",
       "    <tr style=\"text-align: right;\">\n",
       "      <th></th>\n",
       "      <th>source</th>\n",
       "      <th>link</th>\n",
       "      <th>text</th>\n",
       "      <th>date</th>\n",
       "    </tr>\n",
       "  </thead>\n",
       "  <tbody>\n",
       "    <tr>\n",
       "      <th>0</th>\n",
       "      <td>yandex.news</td>\n",
       "      <td>https://yandex.ru/news/story/Na_CHukotke_sover...</td>\n",
       "      <td>На Чукотке совершил жесткую посадку вертолет М...</td>\n",
       "      <td>2020-05-26</td>\n",
       "    </tr>\n",
       "    <tr>\n",
       "      <th>1</th>\n",
       "      <td>yandex.news</td>\n",
       "      <td>https://yandex.ru/news/story/Rossijskie_banki_...</td>\n",
       "      <td>Российские банки ввезли в страну рекордную сум...</td>\n",
       "      <td>2020-05-26</td>\n",
       "    </tr>\n",
       "    <tr>\n",
       "      <th>2</th>\n",
       "      <td>yandex.news</td>\n",
       "      <td>https://yandex.ru/news/story/Minehnergo_predlo...</td>\n",
       "      <td>Минэнерго предложило сократить срок моратория ...</td>\n",
       "      <td>2020-05-26</td>\n",
       "    </tr>\n",
       "    <tr>\n",
       "      <th>3</th>\n",
       "      <td>yandex.news</td>\n",
       "      <td>https://yandex.ru/news/story/SHveciya_stolknul...</td>\n",
       "      <td>Швеция столкнулась с резким экономическим спад...</td>\n",
       "      <td>2020-05-26</td>\n",
       "    </tr>\n",
       "    <tr>\n",
       "      <th>4</th>\n",
       "      <td>yandex.news</td>\n",
       "      <td>https://yandex.ru/news/story/Ukraina_zakhotela...</td>\n",
       "      <td>Украина захотела «выбить» Россию из космически...</td>\n",
       "      <td>2020-05-26</td>\n",
       "    </tr>\n",
       "  </tbody>\n",
       "</table>\n",
       "</div>"
      ],
      "text/plain": [
       "        source                                               link  \\\n",
       "0  yandex.news  https://yandex.ru/news/story/Na_CHukotke_sover...   \n",
       "1  yandex.news  https://yandex.ru/news/story/Rossijskie_banki_...   \n",
       "2  yandex.news  https://yandex.ru/news/story/Minehnergo_predlo...   \n",
       "3  yandex.news  https://yandex.ru/news/story/SHveciya_stolknul...   \n",
       "4  yandex.news  https://yandex.ru/news/story/Ukraina_zakhotela...   \n",
       "\n",
       "                                                text        date  \n",
       "0  На Чукотке совершил жесткую посадку вертолет М...  2020-05-26  \n",
       "1  Российские банки ввезли в страну рекордную сум...  2020-05-26  \n",
       "2  Минэнерго предложило сократить срок моратория ...  2020-05-26  \n",
       "3  Швеция столкнулась с резким экономическим спад...  2020-05-26  \n",
       "4  Украина захотела «выбить» Россию из космически...  2020-05-26  "
      ]
     },
     "execution_count": 44,
     "metadata": {},
     "output_type": "execute_result"
    }
   ],
   "source": [
    "yandexru_news = to_df(yandexru_news())\n",
    "yandexru_news.head()"
   ]
  },
  {
   "cell_type": "code",
   "execution_count": 45,
   "metadata": {},
   "outputs": [
    {
     "data": {
      "text/html": [
       "<div>\n",
       "<style scoped>\n",
       "    .dataframe tbody tr th:only-of-type {\n",
       "        vertical-align: middle;\n",
       "    }\n",
       "\n",
       "    .dataframe tbody tr th {\n",
       "        vertical-align: top;\n",
       "    }\n",
       "\n",
       "    .dataframe thead th {\n",
       "        text-align: right;\n",
       "    }\n",
       "</style>\n",
       "<table border=\"1\" class=\"dataframe\">\n",
       "  <thead>\n",
       "    <tr style=\"text-align: right;\">\n",
       "      <th></th>\n",
       "      <th>source</th>\n",
       "      <th>link</th>\n",
       "      <th>text</th>\n",
       "      <th>date</th>\n",
       "    </tr>\n",
       "  </thead>\n",
       "  <tbody>\n",
       "    <tr>\n",
       "      <th>0</th>\n",
       "      <td>lenta.ru</td>\n",
       "      <td>https://lenta.ru/articles/2020/05/26/turkm/</td>\n",
       "      <td>«Легче сделать вид, что вируса нет»</td>\n",
       "      <td>2020-05-26</td>\n",
       "    </tr>\n",
       "    <tr>\n",
       "      <th>1</th>\n",
       "      <td>lenta.ru</td>\n",
       "      <td>https://lenta.ru/articles/2020/05/26/harassment/</td>\n",
       "      <td>«Скинул в личку член. Пошутил, что в научных ц...</td>\n",
       "      <td>2020-05-26</td>\n",
       "    </tr>\n",
       "    <tr>\n",
       "      <th>2</th>\n",
       "      <td>lenta.ru</td>\n",
       "      <td>https://lenta.ru/extlink/2020/05/25/kazn/</td>\n",
       "      <td>«Господь прощает, а люди — нет»</td>\n",
       "      <td>2020-05-26</td>\n",
       "    </tr>\n",
       "    <tr>\n",
       "      <th>3</th>\n",
       "      <td>lenta.ru</td>\n",
       "      <td>https://lenta.ru/news/2020/05/26/thefirstplace/</td>\n",
       "      <td>Бразилия вышла на первое место по росту смерте...</td>\n",
       "      <td>2020-05-26</td>\n",
       "    </tr>\n",
       "    <tr>\n",
       "      <th>4</th>\n",
       "      <td>lenta.ru</td>\n",
       "      <td>https://lenta.ru/news/2020/05/26/ostrova/</td>\n",
       "      <td>Туристы массово захотели изолироваться на остр...</td>\n",
       "      <td>2020-05-26</td>\n",
       "    </tr>\n",
       "  </tbody>\n",
       "</table>\n",
       "</div>"
      ],
      "text/plain": [
       "     source                                              link  \\\n",
       "0  lenta.ru       https://lenta.ru/articles/2020/05/26/turkm/   \n",
       "1  lenta.ru  https://lenta.ru/articles/2020/05/26/harassment/   \n",
       "2  lenta.ru         https://lenta.ru/extlink/2020/05/25/kazn/   \n",
       "3  lenta.ru   https://lenta.ru/news/2020/05/26/thefirstplace/   \n",
       "4  lenta.ru         https://lenta.ru/news/2020/05/26/ostrova/   \n",
       "\n",
       "                                                text        date  \n",
       "0                «Легче сделать вид, что вируса нет»  2020-05-26  \n",
       "1  «Скинул в личку член. Пошутил, что в научных ц...  2020-05-26  \n",
       "2                    «Господь прощает, а люди — нет»  2020-05-26  \n",
       "3  Бразилия вышла на первое место по росту смерте...  2020-05-26  \n",
       "4  Туристы массово захотели изолироваться на остр...  2020-05-26  "
      ]
     },
     "execution_count": 45,
     "metadata": {},
     "output_type": "execute_result"
    }
   ],
   "source": [
    "lentaru_news = to_df(lentaru_news())\n",
    "lentaru_news.head()"
   ]
  },
  {
   "cell_type": "code",
   "execution_count": 59,
   "metadata": {},
   "outputs": [],
   "source": [
    "def to_db(what: list, where):\n",
    "    for element in what:\n",
    "        element['_id'] = hashlib.sha1(element['link'].encode()).hexdigest()\n",
    "        where.update_one({\"_id\": element['_id']}, {'$set': element}, upsert=True)"
   ]
  },
  {
   "cell_type": "code",
   "execution_count": 60,
   "metadata": {},
   "outputs": [],
   "source": [
    "client = MongoClient('localhost', 27017)\n",
    "db = client['news']"
   ]
  },
  {
   "cell_type": "code",
   "execution_count": 61,
   "metadata": {},
   "outputs": [],
   "source": [
    "to_db(mailru_news(), db.mail)\n",
    "to_db(yandexru_news(), db.yandex)\n",
    "to_db(lentaru_news(), db.lenta)"
   ]
  },
  {
   "cell_type": "code",
   "execution_count": 65,
   "metadata": {},
   "outputs": [
    {
     "name": "stdout",
     "output_type": "stream",
     "text": [
      "{'_id': '764a5d05957d2d0a827a1f5c05cdbe8c4fd3647b',\n",
      " 'date': '2020-05-26',\n",
      " 'link': 'https://lenta.ru/articles/2020/05/26/turkm/',\n",
      " 'source': 'lenta.ru',\n",
      " 'text': '«Легче сделать вид, что вируса нет»'}\n",
      "{'_id': 'a46be36350d09d7a0c661cf75777377b7f643cd8',\n",
      " 'date': '2020-05-26',\n",
      " 'link': 'https://lenta.ru/articles/2020/05/26/harassment/',\n",
      " 'source': 'lenta.ru',\n",
      " 'text': '«Скинул в личку член. Пошутил, что в научных целях»'}\n",
      "{'_id': '6ecfedd525c24d04853e58b14298114fb4a59ee9',\n",
      " 'date': '2020-05-26',\n",
      " 'link': 'https://lenta.ru/extlink/2020/05/25/kazn/',\n",
      " 'source': 'lenta.ru',\n",
      " 'text': '«Господь прощает, а люди — нет»'}\n",
      "{'_id': '184fb1469f8eeca9d91d73acfc12da92f0f58d34',\n",
      " 'date': '2020-05-26',\n",
      " 'link': 'https://lenta.ru/news/2020/05/26/theestallion/',\n",
      " 'source': 'lenta.ru',\n",
      " 'text': 'Популярная рэперша снялась в рекламе нижнего белья Рианны'}\n",
      "{'_id': 'c7a9d1f73fc01b239b60bb7415f71ac04f905eb4',\n",
      " 'date': '2020-05-26',\n",
      " 'link': 'https://lenta.ru/news/2020/05/26/sakh/',\n",
      " 'source': 'lenta.ru',\n",
      " 'text': 'В российском регионе откроются рестораны и кафе'}\n"
     ]
    }
   ],
   "source": [
    "for element in db.lenta.find({}).limit(5):\n",
    "    pprint(element)"
   ]
  },
  {
   "cell_type": "code",
   "execution_count": 66,
   "metadata": {},
   "outputs": [
    {
     "name": "stdout",
     "output_type": "stream",
     "text": [
      "{'_id': '150d9030328a2bab6896da99725bf98fb6139d46',\n",
      " 'date': '2020-05-26',\n",
      " 'link': 'https://yandex.ru/news/story/Rossijskie_banki_vvezli_v_stranu_rekordnuyu_summu_dollarov--79bb068d7a00d1117c5e1012ada6ab01?lr=21621&lang=ru&stid=qAq9D5IOVdKyMMGqFL4P&persistent_id=98612810&rubric=index&from=index',\n",
      " 'source': 'yandex.news',\n",
      " 'text': 'Российские банки ввезли в страну рекордную сумму долларов'}\n",
      "{'_id': '755bddc6dd5a8ecd95d878b835ed5a24d66be2a6',\n",
      " 'date': '2020-05-26',\n",
      " 'link': 'https://yandex.ru/news/story/Na_CHukotke_sovershil_zhestkuyu_posadku_vertolet_Mi-8_est_zhertvy--18fcdd316201d8059a1877471e009b16?lr=21621&lang=ru&stid=hLtcsoMvCKT4jPFnWZlg&persistent_id=98612533&rubric=index&from=index',\n",
      " 'source': 'yandex.news',\n",
      " 'text': 'На Чукотке совершил жесткую посадку вертолет Ми-8, есть жертвы'}\n",
      "{'_id': 'a67710e33efe9847ba2dbe83101716320445fa6e',\n",
      " 'date': '2020-05-26',\n",
      " 'link': 'https://yandex.ru/news/story/SHveciya_stolknulas_s_rezkim_ehkonomicheskim_spadom_i_rostom_bezraboticy--cb643d958dbddd9d11616ae7b333ab0e?lr=21621&lang=ru&stid=eKfvZFGDVUwN7n80KgfI&persistent_id=98551710&rubric=index&from=index',\n",
      " 'source': 'yandex.news',\n",
      " 'text': 'Швеция столкнулась с резким экономическим спадом и ростом '\n",
      "         'безработицы'}\n",
      "{'_id': '342b07dc45c55f00e5191a060b41243296ad63a6',\n",
      " 'date': '2020-05-26',\n",
      " 'link': 'https://yandex.ru/news/story/V_Rossii_pristupili_k_sozdaniyu_stels-bombardirovshhika_PAK_DA--40d32dca997f0a8b63b94bb668f6ec9c?lr=21621&lang=ru&stid=F3ZERS5I38mGaZyuQTtR&persistent_id=98608484&rubric=index&from=index',\n",
      " 'source': 'yandex.news',\n",
      " 'text': 'В России приступили к созданию стелс-бомбардировщика ПАК ДА'}\n",
      "{'_id': '0bc47300669ba2869df2089564ac52c3b3798fc8',\n",
      " 'date': '2020-05-26',\n",
      " 'link': 'https://yandex.ru/news/story/V_Moskve_za_sutki_vylechilos_rekordnoe_chislo_zarazhennykh_koronavirusom--edea1a5d9f8b7d7584fe3b6d395137bd?lr=21621&lang=ru&stid=g7IHa5_wEHjABFWz6g1A&persistent_id=96976303&rubric=index&from=index',\n",
      " 'source': 'yandex.news',\n",
      " 'text': 'В Москве за сутки вылечилось рекордное число зараженных '\n",
      "         'коронавирусом'}\n"
     ]
    }
   ],
   "source": [
    "for element in db.yandex.find({}).limit(5):\n",
    "    pprint(element)"
   ]
  },
  {
   "cell_type": "code",
   "execution_count": 67,
   "metadata": {},
   "outputs": [
    {
     "name": "stdout",
     "output_type": "stream",
     "text": [
      "{'_id': 'e26d6ef345c1c66b19623dedcaabe1bcc32257fa',\n",
      " 'date': '2020-05-26',\n",
      " 'link': 'https://news.mail.ru/incident/41927091/',\n",
      " 'source': 'news.mail.ru',\n",
      " 'text': 'Офицеров обвинили во взятках за командировки в Сирию'}\n",
      "{'_id': '9eed90618870e02d7719389ec988eb399eee372a',\n",
      " 'date': '2020-05-26',\n",
      " 'link': 'https://news.mail.ru/politics/41926709/',\n",
      " 'source': 'news.mail.ru',\n",
      " 'text': 'Закон о запрете снюса получил в Госдуме отрицательное заключение'}\n",
      "{'_id': '9e16c0e3c1f1fa325c2452865aa7cf1f2e40f55f',\n",
      " 'date': '2020-05-26',\n",
      " 'link': 'https://news.mail.ru/society/41925187/',\n",
      " 'source': 'news.mail.ru',\n",
      " 'text': 'Художник превратил Симпсонов в реальных людей (фото)'}\n",
      "{'_id': '8aea50f6193af8dd060dbbd1cdaca3031ff20f88',\n",
      " 'date': '2020-05-26',\n",
      " 'link': 'https://news.mail.ru/economics/41927140/',\n",
      " 'source': 'news.mail.ru',\n",
      " 'text': 'Западные банкиры спрогнозировали новые санкции против России'}\n",
      "{'_id': '23550f6e907f032bc33e324a5691fdd7a554301b',\n",
      " 'date': '2020-05-26',\n",
      " 'link': 'https://news.mail.ru/society/41918174/',\n",
      " 'source': 'news.mail.ru',\n",
      " 'text': 'Новый мировой порядок: как родилась идея чипирования населения'}\n"
     ]
    }
   ],
   "source": [
    "for element in db.mail.find({}).limit(5):\n",
    "    pprint(element)"
   ]
  },
  {
   "cell_type": "code",
   "execution_count": null,
   "metadata": {},
   "outputs": [],
   "source": []
  }
 ],
 "metadata": {
  "kernelspec": {
   "display_name": "Python 3",
   "language": "python",
   "name": "python3"
  },
  "language_info": {
   "codemirror_mode": {
    "name": "ipython",
    "version": 3
   },
   "file_extension": ".py",
   "mimetype": "text/x-python",
   "name": "python",
   "nbconvert_exporter": "python",
   "pygments_lexer": "ipython3",
   "version": "3.7.7"
  }
 },
 "nbformat": 4,
 "nbformat_minor": 4
}
